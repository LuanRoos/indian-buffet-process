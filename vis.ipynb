{
 "cells": [
  {
   "cell_type": "code",
   "execution_count": 1,
   "metadata": {},
   "outputs": [],
   "source": [
    "import pandas as pd\n",
    "import bamboolib as bam"
   ]
  },
  {
   "cell_type": "code",
   "execution_count": 2,
   "metadata": {},
   "outputs": [],
   "source": [
    "df = pd.read_pickle('data/restaurant/processed1.pkl')"
   ]
  },
  {
   "cell_type": "code",
   "execution_count": 3,
   "metadata": {},
   "outputs": [],
   "source": [
    "df['date'] = df['Order Date'].dt.date\n",
    "df['dayyear'] = df['Order Date'].dt.day_of_year\n",
    "df['month'] = df['Order Date'].dt.month\n",
    "df['day'] = df['Order Date'].dt.day\n",
    "df['Total Price'] = df['Quantity']*df['Product Price']\n",
    "df['year'] = df['Order Date'].dt.year"
   ]
  },
  {
   "cell_type": "code",
   "execution_count": 4,
   "metadata": {},
   "outputs": [
    {
     "data": {
      "text/plain": [
       "<AxesSubplot: xlabel='Order Date'>"
      ]
     },
     "execution_count": 4,
     "metadata": {},
     "output_type": "execute_result"
    },
    {
     "data": {
      "image/png": "[encoded data removed]",
      "text/plain": [
       "<Figure size 640x480 with 1 Axes>"
      ]
     },
     "metadata": {},
     "output_type": "display_data"
    }
   ],
   "source": [
    "df.groupby(pd.to_datetime(df['Order Date']).dt.day_of_week)['Total Price'].sum().plot(kind=\"bar\")"
   ]
  },
  {
   "cell_type": "code",
   "execution_count": 5,
   "metadata": {},
   "outputs": [
    {
     "data": {
      "application/vnd.jupyter.widget-view+json": {
       "model_id": "cbe2817456db4c0eaf28705ea7b159d0"
      },
      "text/plain": [
       "       Order Number          Order Date               Item Name  Quantity  \\\n",
       "39142          1212 2015-09-29 15:20:00           Chicken Tikka         3   \n",
       "42118          1212 2015-09-29 15:20:00  Tandoori Chicken (1/4)         1   \n",
       "54026          1212 2015-09-29 15:20:00           Chicken Tikka         1   \n",
       "\n",
       "       Product Price  Total products  Weekday  cloud_cover  sunshine  \\\n",
       "39142           3.95               3        1          1.0       8.9   \n",
       "42118           4.95               3        1          1.0       8.9   \n",
       "54026           7.95               3        1          1.0       8.9   \n",
       "\n",
       "       max_temp  mean_temp  min_temp  precipitation  snow_depth        date  \\\n",
       "39142      18.7       14.8      10.4            0.0         0.0  2015-09-29   \n",
       "42118      18.7       14.8      10.4            0.0         0.0  2015-09-29   \n",
       "54026      18.7       14.8      10.4            0.0         0.0  2015-09-29   \n",
       "\n",
       "       dayyear  month  day  Total Price  year  \n",
       "39142      272      9   29        11.85  2015  \n",
       "42118      272      9   29         4.95  2015  \n",
       "54026      272      9   29         7.95  2015  "
      ]
     },
     "metadata": {},
     "output_type": "display_data"
    }
   ],
   "source": [
    "df[df['Order Number'] == 1212] # Different product price for the same dish in the same order. Might only happen in 2015 data."
   ]
  },
  {
   "cell_type": "code",
   "execution_count": 6,
   "metadata": {},
   "outputs": [],
   "source": [
    "df2 = pd.read_pickle('data/restaurant/processed2.pkl')"
   ]
  },
  {
   "cell_type": "markdown",
   "metadata": {},
   "source": [
    "# Weather"
   ]
  },
  {
   "cell_type": "code",
   "execution_count": 11,
   "metadata": {},
   "outputs": [],
   "source": [
    "tmp = df.groupby('date').agg(price_sum = ('Total Price', 'sum'), quantity = ('Quantity', 'sum'), max_temp = ('max_temp', 'max'), clouds = ('cloud_cover', 'max'), sun = ('sunshine', 'max'), snow = ('snow_depth', 'max'), rain = ('precipitation', 'max'))"
   ]
  },
  {
   "cell_type": "code",
   "execution_count": 12,
   "metadata": {},
   "outputs": [
    {
     "data": {
      "application/vnd.jupyter.widget-view+json": {
       "model_id": "de5f099054604f9092fa8fb13e91c87a"
      },
      "text/plain": [
       "            price_sum  quantity  max_temp  clouds   sun  snow  rain\n",
       "date                                                               \n",
       "2015-09-01       3.95         1      19.0     7.0   3.1   0.0   0.2\n",
       "2015-09-08      11.85         3      19.7     7.0   1.4   0.0   0.0\n",
       "2015-09-09      23.70         6      21.2     6.0   2.1   0.0   0.4\n",
       "2015-09-29      45.55         9      18.7     1.0   8.9   0.0   0.0\n",
       "2015-09-30     104.00        20      18.8     0.0  10.7   0.0   0.0\n",
       "...               ...       ...       ...     ...   ...   ...   ...\n",
       "2019-07-30     461.15       100      24.9     6.0   1.5   0.0   3.8\n",
       "2019-07-31     422.80        87      26.0     7.0   4.2   0.0   0.0\n",
       "2019-08-01     325.35        65      25.8     6.0   5.7   0.0   0.0\n",
       "2019-08-02     598.55       132      24.7     4.0   6.6   0.0   0.0\n",
       "2019-08-03     720.65       162      27.4     4.0   3.0   0.0   0.0\n",
       "\n",
       "[1207 rows x 7 columns]"
      ]
     },
     "metadata": {},
     "output_type": "display_data"
    }
   ],
   "source": [
    "import pandas as pd; import numpy as np\n",
    "tmp = tmp.reset_index()\n",
    "tmp"
   ]
  },
  {
   "cell_type": "code",
   "execution_count": null,
   "metadata": {},
   "outputs": [],
   "source": []
  }
 ],
 "metadata": {
  "kernelspec": {
   "display_name": "Python 3 (ipykernel)",
   "language": "python",
   "name": "python3"
  },
  "language_info": {
   "codemirror_mode": {
    "name": "ipython",
    "version": 3
   },
   "file_extension": ".py",
   "mimetype": "text/x-python",
   "name": "python",
   "nbconvert_exporter": "python",
   "pygments_lexer": "ipython3",
   "version": "3.10.4"
  },
  "vscode": {
   "interpreter": {
    "hash": "c3680f0a9e8311dcf915286fe9c626f40ad48e4ada490136ff9ad0e504f632df"
   }
  }
 },
 "nbformat": 4,
 "nbformat_minor": 4
}
